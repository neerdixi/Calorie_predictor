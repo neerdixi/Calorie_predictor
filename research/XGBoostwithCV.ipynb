{
 "cells": [
  {
   "cell_type": "code",
   "execution_count": 44,
   "id": "cb4907d7",
   "metadata": {},
   "outputs": [],
   "source": [
    "from xgboost import XGBRegressor\n",
    "from sklearn.metrics import mean_squared_error,mean_absolute_error,r2_score,root_mean_squared_log_error\n",
    "from sklearn.model_selection import train_test_split\n",
    "import numpy as np\n",
    "\n",
    "import pandas as pd\n",
    "import os"
   ]
  },
  {
   "cell_type": "code",
   "execution_count": 45,
   "id": "79671d81",
   "metadata": {},
   "outputs": [],
   "source": [
    "#Importing the data set\n",
    "os.chdir(\"D:/Neeraj_Dixit/Projects/Calorie_pred/\")\n",
    "df=pd.read_csv(\"Cleaned_data.csv\")\n"
   ]
  },
  {
   "cell_type": "code",
   "execution_count": 46,
   "id": "19c89a36",
   "metadata": {},
   "outputs": [],
   "source": [
    "X=df.iloc[:,[0,1,2,3,4,5,6,7]]\n",
    "y=df.iloc[:,[-1]]"
   ]
  },
  {
   "cell_type": "code",
   "execution_count": 47,
   "id": "d8ae2072",
   "metadata": {},
   "outputs": [],
   "source": [
    "#To avoid negative values\n",
    "\n",
    "#y_log = np.log1p(y)  # log(1 + y)\n",
    "#model.fit(X, y_log)\n",
    "\n",
    "# Then invert the transformation after prediction\n",
    "#y_pred_log = model.predict(X_test)\n",
    "#y_pred = np.expm1(y_pred_log)  # exp(y) - 1"
   ]
  },
  {
   "cell_type": "code",
   "execution_count": 48,
   "id": "04f35bda",
   "metadata": {},
   "outputs": [],
   "source": [
    "X_train,X_test,y_train,y_test=train_test_split(X,y,test_size=0.3,random_state=42)"
   ]
  },
  {
   "cell_type": "code",
   "execution_count": 49,
   "id": "8966cc69",
   "metadata": {},
   "outputs": [],
   "source": [
    "def evaluate_model(y_test,y_pred):\n",
    "    mae=mean_absolute_error(y_test,y_pred)\n",
    "    mse=mean_squared_error(y_test,y_pred)\n",
    "    rmse=np.sqrt(mse)\n",
    "    r_sq=r2_score(y_test,y_pred)\n",
    "    rmsle=root_mean_squared_log_error(y_test,y_pred)\n",
    "    return mae,mse,rmse,r_sq,rmsle"
   ]
  },
  {
   "cell_type": "code",
   "execution_count": 60,
   "id": "27b999a7",
   "metadata": {},
   "outputs": [
    {
     "name": "stdout",
     "output_type": "stream",
     "text": [
      "['Xgboost_regressor']\n",
      "Model Performance for training Set\n",
      "- Mean absolute error: 2.3041\n",
      "- Mean squared error: 12.6350\n",
      "- Root mean squared error: 3.5546\n",
      "- R2 Score: 0.9968\n",
      "- Mean squared log error: 0.0620\n",
      "----------------------------------------\n",
      "Model Performance for Test Set\n",
      "- Mean absolute error: 2.3592\n",
      "- Mean squared error: 14.6073\n",
      "- Root mean squared error: 3.8220\n",
      "- R2 Score: 0.9962\n",
      "- Mean squared log error: 0.0651\n",
      "----------------------------------------\n"
     ]
    }
   ],
   "source": [
    "models = {\n",
    "    \"Xgboost_regressor\":XGBRegressor()\n",
    "}\n",
    "\n",
    "for i in range(len(list(models))):\n",
    "    model=list(models.values())[i]\n",
    "    model.fit(X_train,y_train)\n",
    "\n",
    "    #making predictions\n",
    "    y_train_prd=model.predict(X_train)\n",
    "    y_test_prd=model.predict(X_test)\n",
    "    #Handling negative values\n",
    "    y_train_pred=np.maximum(y_train_prd,0.9)\n",
    "    y_test_pred=np.maximum(y_test_prd,0.9)\n",
    "    #Evaluate Train and test set \n",
    "    train_mae,train_mse,train_rmse,train_r2,train_rmsle=evaluate_model(y_train,y_train_pred)\n",
    "    test_mae,test_mse,test_rmse,test_r2,test_rmsle=evaluate_model(y_test,y_test_pred)\n",
    "\n",
    "    print(list(models.keys()))\n",
    "\n",
    "    print(\"Model Performance for training Set\")\n",
    "    print(\"- Mean absolute error: {:.4f}\".format(train_mae))\n",
    "    print(\"- Mean squared error: {:.4f}\".format(train_mse))\n",
    "    print(\"- Root mean squared error: {:.4f}\".format(train_rmse))\n",
    "    print(\"- R2 Score: {:.4f}\".format(train_r2))\n",
    "    print(\"- Mean squared log error: {:.4f}\".format(train_rmsle))\n",
    "    print(\"----------------------------------------\")\n",
    "\n",
    "    print(\"Model Performance for Test Set\")\n",
    "    print(\"- Mean absolute error: {:.4f}\".format(test_mae))\n",
    "    print(\"- Mean squared error: {:.4f}\".format(test_mse))\n",
    "    print(\"- Root mean squared error: {:.4f}\".format(test_rmse))\n",
    "    print(\"- R2 Score: {:.4f}\".format(test_r2))\n",
    "    print(\"- Mean squared log error: {:.4f}\".format(test_rmsle))\n",
    "    print(\"----------------------------------------\")"
   ]
  },
  {
   "cell_type": "code",
   "execution_count": 62,
   "id": "5f7f5bfc",
   "metadata": {},
   "outputs": [],
   "source": [
    "df2=pd.read_csv(\"testing_data.csv\")\n",
    "df3=pd.read_csv(\"id_file.csv\")\n",
    "y_test_pred=model.predict(df2)\n",
    "y_test_pred=np.maximum(y_test_pred,0.9)\n",
    "test_file=pd.DataFrame(y_test_pred)\n",
    "final=pd.concat([df3,test_file],axis=1)\n",
    "final.to_csv(\"prediction2.csv\",index=False)"
   ]
  },
  {
   "cell_type": "code",
   "execution_count": 63,
   "id": "240331c5",
   "metadata": {},
   "outputs": [],
   "source": [
    "#Hyperparameter Tuning regaring XGboost\n",
    "xgboost_params={\"learning_rate\":[0.1,0.01],\n",
    "                \"max_depth\":[5,8,12,20,30],\n",
    "                \"n_estimators\":[100,200,300],\n",
    "                \"colsample_bytree\":[0.5,0.8,1,0.3,0.4]}"
   ]
  },
  {
   "cell_type": "code",
   "execution_count": 64,
   "id": "8fee6f58",
   "metadata": {},
   "outputs": [],
   "source": [
    "#Hyperparameter tuning \n",
    "randomcv_model=[('XGboost',XGBRegressor(),xgboost_params)]"
   ]
  },
  {
   "cell_type": "code",
   "execution_count": null,
   "id": "18aeb371",
   "metadata": {},
   "outputs": [
    {
     "name": "stdout",
     "output_type": "stream",
     "text": [
      "Fitting 5 folds for each of 100 candidates, totalling 500 fits\n"
     ]
    }
   ],
   "source": [
    "from sklearn.model_selection import c RandomizedSearchCV\n",
    "\n",
    "model_param = {}\n",
    "\n",
    "# Assuming randomcv_model is a list of tuples: (name, model, param_grid)\n",
    "for name, model, params in randomcv_model:\n",
    "    random = RandomizedSearchCV(\n",
    "        estimator=model,\n",
    "        param_distributions=params,\n",
    "        n_iter=100,\n",
    "        verbose=2,\n",
    "        n_jobs=-1,\n",
    "        cv=5,  # added cross-validation\n",
    "        scoring='accuracy'  # or another appropriate metric\n",
    "    )\n",
    "    random.fit(X_train, y_train)\n",
    "    model_param[name] = random.best_params_\n",
    "\n",
    "# Display best hyperparameters for each model\n",
    "for model_name in model_param:\n",
    "    print(f\"-------------------------- Best params for model {model_name} ----------------------------\")\n",
    "    print(model_param[model_name])\n"
   ]
  },
  {
   "cell_type": "code",
   "execution_count": null,
   "id": "58dea09b",
   "metadata": {},
   "outputs": [],
   "source": []
  }
 ],
 "metadata": {
  "kernelspec": {
   "display_name": "Python 3",
   "language": "python",
   "name": "python3"
  },
  "language_info": {
   "codemirror_mode": {
    "name": "ipython",
    "version": 3
   },
   "file_extension": ".py",
   "mimetype": "text/x-python",
   "name": "python",
   "nbconvert_exporter": "python",
   "pygments_lexer": "ipython3",
   "version": "3.10.0"
  }
 },
 "nbformat": 4,
 "nbformat_minor": 5
}
